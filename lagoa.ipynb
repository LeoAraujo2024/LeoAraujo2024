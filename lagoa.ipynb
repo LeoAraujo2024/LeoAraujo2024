{
  "nbformat": 4,
  "nbformat_minor": 0,
  "metadata": {
    "colab": {
      "provenance": [],
      "authorship_tag": "ABX9TyM9G2yK9UVd78RYi2ZTJwfr",
      "include_colab_link": true
    },
    "kernelspec": {
      "name": "python3",
      "display_name": "Python 3"
    },
    "language_info": {
      "name": "python"
    }
  },
  "cells": [
    {
      "cell_type": "markdown",
      "metadata": {
        "id": "view-in-github",
        "colab_type": "text"
      },
      "source": [
        "<a href=\"https://colab.research.google.com/github/LeoAraujo2024/LeoAraujo2024/blob/main/lagoa.ipynb\" target=\"_parent\"><img src=\"https://colab.research.google.com/assets/colab-badge.svg\" alt=\"Open In Colab\"/></a>"
      ]
    },
    {
      "cell_type": "code",
      "execution_count": null,
      "metadata": {
        "id": "dxQpl1TsrR24"
      },
      "outputs": [],
      "source": []
    },
    {
      "cell_type": "code",
      "source": [
        "!pip install pandas openpyxl\n"
      ],
      "metadata": {
        "colab": {
          "base_uri": "https://localhost:8080/"
        },
        "id": "PFT7RSALrXiS",
        "outputId": "df2d7aca-a73c-4c5f-9313-df26a60a0800"
      },
      "execution_count": null,
      "outputs": [
        {
          "output_type": "stream",
          "name": "stdout",
          "text": [
            "Requirement already satisfied: pandas in /usr/local/lib/python3.10/dist-packages (2.2.2)\n",
            "Requirement already satisfied: openpyxl in /usr/local/lib/python3.10/dist-packages (3.1.5)\n",
            "Requirement already satisfied: numpy>=1.22.4 in /usr/local/lib/python3.10/dist-packages (from pandas) (1.26.4)\n",
            "Requirement already satisfied: python-dateutil>=2.8.2 in /usr/local/lib/python3.10/dist-packages (from pandas) (2.8.2)\n",
            "Requirement already satisfied: pytz>=2020.1 in /usr/local/lib/python3.10/dist-packages (from pandas) (2024.2)\n",
            "Requirement already satisfied: tzdata>=2022.7 in /usr/local/lib/python3.10/dist-packages (from pandas) (2024.2)\n",
            "Requirement already satisfied: et-xmlfile in /usr/local/lib/python3.10/dist-packages (from openpyxl) (2.0.0)\n",
            "Requirement already satisfied: six>=1.5 in /usr/local/lib/python3.10/dist-packages (from python-dateutil>=2.8.2->pandas) (1.17.0)\n"
          ]
        }
      ]
    },
    {
      "cell_type": "code",
      "source": [
        "import pandas as pd\n",
        "\n",
        "# Criar o DataFrame com fórmulas para o Excel\n",
        "data_with_formulas = {\n",
        "    \"Parâmetro\": [\n",
        "        \"Largura Superior (m)\",\n",
        "        \"Comprimento Superior (m)\",\n",
        "        \"Profundidade (m)\",\n",
        "        \"Ângulo de Inclinação (graus)\",\n",
        "        \"Largura Inferior (m)\",\n",
        "        \"Comprimento Inferior (m)\",\n",
        "        \"Área da Base Superior (m²)\",\n",
        "        \"Área da Base Inferior (m²)\",\n",
        "        \"Volume da Lagoa (m³)\",\n",
        "    ],\n",
        "    \"Valor\": [\n",
        "        \"\",  # Campo para entrada do usuário\n",
        "        \"\",  # Campo para entrada do usuário\n",
        "        \"\",  # Campo para entrada do usuário\n",
        "        \"\",  # Campo para entrada do usuário\n",
        "        \"\",  # Calculado pelo Excel\n",
        "        \"\",  # Calculado pelo Excel\n",
        "        \"\",  # Calculado pelo Excel\n",
        "        \"\",  # Calculado pelo Excel\n",
        "        \"\",  # Calculado pelo Excel\n",
        "    ],\n",
        "    \"Fórmula\": [\n",
        "        \"\",  # Largura Superior\n",
        "        \"\",  # Comprimento Superior\n",
        "        \"\",  # Profundidade\n",
        "        \"\",  # Ângulo de Inclinação\n",
        "        \"=A3-2*(A4/TAN(RADIANS(A5)))\",  # Fórmula para largura inferior\n",
        "        \"=B3-2*(A4/TAN(RADIANS(A5)))\",  # Fórmula para comprimento inferior\n",
        "        \"=A3*B3\",  # Fórmula para área superior\n",
        "        \"=D3*E3\",  # Fórmula para área inferior\n",
        "        \"=A4/3*(C3+D3+SQRT(C3*D3))\",  # Fórmula para volume\n",
        "    ],\n",
        "}\n",
        "\n",
        "# Criar DataFrame\n",
        "df_with_formulas = pd.DataFrame(data_with_formulas)\n",
        "\n",
        "# Exportar para Excel com as fórmulas\n",
        "file_path_with_formulas = \"Dimensionamento_Lagoa_ETE_Com_Formulas.xlsx\"\n",
        "with pd.ExcelWriter(file_path_with_formulas, engine=\"openpyxl\") as writer:\n",
        "    df_with_formulas.to_excel(writer, index=False, sheet_name=\"Lagoa ETE\")\n",
        "\n",
        "print(f\"Planilha criada com sucesso: {file_path_with_formulas}\")\n"
      ],
      "metadata": {
        "colab": {
          "base_uri": "https://localhost:8080/"
        },
        "id": "_6NQ-a4arjIc",
        "outputId": "81ad3d02-967a-491f-971f-6cc95c328e1d"
      },
      "execution_count": null,
      "outputs": [
        {
          "output_type": "stream",
          "name": "stdout",
          "text": [
            "Planilha criada com sucesso: Dimensionamento_Lagoa_ETE_Com_Formulas.xlsx\n"
          ]
        }
      ]
    },
    {
      "cell_type": "code",
      "source": [
        "from google.colab import files\n",
        "files.download(\"Dimensionamento_Lagoa_ETE_Com_Formulas.xlsx\")\n"
      ],
      "metadata": {
        "id": "jjjTCBmqsg-c",
        "outputId": "41944eac-91ac-4769-f06a-566b19b6546f",
        "colab": {
          "base_uri": "https://localhost:8080/",
          "height": 17
        }
      },
      "execution_count": null,
      "outputs": [
        {
          "output_type": "display_data",
          "data": {
            "text/plain": [
              "<IPython.core.display.Javascript object>"
            ],
            "application/javascript": [
              "\n",
              "    async function download(id, filename, size) {\n",
              "      if (!google.colab.kernel.accessAllowed) {\n",
              "        return;\n",
              "      }\n",
              "      const div = document.createElement('div');\n",
              "      const label = document.createElement('label');\n",
              "      label.textContent = `Downloading \"${filename}\": `;\n",
              "      div.appendChild(label);\n",
              "      const progress = document.createElement('progress');\n",
              "      progress.max = size;\n",
              "      div.appendChild(progress);\n",
              "      document.body.appendChild(div);\n",
              "\n",
              "      const buffers = [];\n",
              "      let downloaded = 0;\n",
              "\n",
              "      const channel = await google.colab.kernel.comms.open(id);\n",
              "      // Send a message to notify the kernel that we're ready.\n",
              "      channel.send({})\n",
              "\n",
              "      for await (const message of channel.messages) {\n",
              "        // Send a message to notify the kernel that we're ready.\n",
              "        channel.send({})\n",
              "        if (message.buffers) {\n",
              "          for (const buffer of message.buffers) {\n",
              "            buffers.push(buffer);\n",
              "            downloaded += buffer.byteLength;\n",
              "            progress.value = downloaded;\n",
              "          }\n",
              "        }\n",
              "      }\n",
              "      const blob = new Blob(buffers, {type: 'application/binary'});\n",
              "      const a = document.createElement('a');\n",
              "      a.href = window.URL.createObjectURL(blob);\n",
              "      a.download = filename;\n",
              "      div.appendChild(a);\n",
              "      a.click();\n",
              "      div.remove();\n",
              "    }\n",
              "  "
            ]
          },
          "metadata": {}
        },
        {
          "output_type": "display_data",
          "data": {
            "text/plain": [
              "<IPython.core.display.Javascript object>"
            ],
            "application/javascript": [
              "download(\"download_5e133939-09f5-4554-b374-8ab8a55fd836\", \"Dimensionamento_Lagoa_ETE_Com_Formulas.xlsx\", 5275)"
            ]
          },
          "metadata": {}
        }
      ]
    }
  ]
}